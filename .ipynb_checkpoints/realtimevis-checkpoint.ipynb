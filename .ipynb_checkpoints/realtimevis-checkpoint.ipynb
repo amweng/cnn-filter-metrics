{
 "cells": [
  {
   "cell_type": "code",
   "execution_count": 13,
   "metadata": {},
   "outputs": [
    {
     "name": "stdout",
     "output_type": "stream",
     "text": [
      "(1, 28, 28, 1)\n",
      "(1, 28, 28, 1)\n",
      "Shape before one-hot encoding:  (60000,)\n",
      "Shape after one-hot encoding:  (60000, 10)\n"
     ]
    }
   ],
   "source": [
    "# keras imports for the dataset and building our neural network\n",
    "import numpy as np\n",
    "import matplotlib.pyplot as plt\n",
    "from IPython.display import clear_output\n",
    "import tensorflow as tf\n",
    "import keras\n",
    "from keras.datasets import mnist\n",
    "from keras.models import Sequential\n",
    "from keras.models import Model\n",
    "from keras.layers import Dense, Dropout, Conv2D, MaxPool2D, Flatten\n",
    "from keras.utils import np_utils\n",
    "\n",
    "\n",
    "### References: https://towardsdatascience.com/how-to-create-custom-real-time-plots-in-deep-learning-ecbdb3e7922f\n",
    "### References: https://www.analyticsvidhya.com/blog/2020/11/tutorial-how-to-visualize-feature-maps-directly-from-cnn-layers/\n",
    "\n",
    "class TrainingVis(keras.callbacks.Callback):\n",
    "    def on_train_begin(self, logs={}):\n",
    "        self.losses = []\n",
    "        self.acc = []\n",
    "        self.f1score = []\n",
    "        self.precision = []\n",
    "        self.recall = []\n",
    "        self.categorical_accuracy = []\n",
    "        self.logs = []\n",
    "\n",
    "    def on_train_batch_end(self,batch,logs={}):\n",
    "        \n",
    "        \n",
    "        if batch%1 ==0:\n",
    "            layer_names = [layer.name for layer in model.layers]\n",
    "            layer_outputs = [layer.output for layer in model.layers]\n",
    "            feature_map_model = Model(inputs=model.input, outputs=layer_outputs)\n",
    "\n",
    "            # create a feature map of dimension [1 : im.height : im.width : num_filters ]\n",
    "            #feature_maps = feature_map_model.predict(X_sample)\n",
    "            feature_maps = feature_map_model.predict(X_random_test)\n",
    "\n",
    "            clear_output(wait=True)\n",
    "\n",
    "            for layer_name, feature_map in zip(layer_names, feature_maps):  \n",
    "\n",
    "\n",
    "                if len(feature_map.shape) == 4:\n",
    "                    k = feature_map.shape[-1]  \n",
    "                    size=feature_map.shape[1]\n",
    "                    image_belt = np.zeros((size,size*k))\n",
    "\n",
    "\n",
    "                    for i in range(k):\n",
    "\n",
    "                        # for every filter, visualize the activation    \n",
    "                        feature_image = feature_map[0, :, :, i]\n",
    "                        feature_image-= feature_image.mean()\n",
    "                        feature_image/= feature_image.std ()\n",
    "                        feature_image*=  25\n",
    "                        feature_image+= 50\n",
    "\n",
    "                        # Threshold the feature map to become a binary image \n",
    "                        feature_image = feature_image < 80\n",
    "                        image_belt[:, i * size : (i + 1) * size] = feature_image \n",
    "\n",
    "                    scale = 20. / k\n",
    "                    plt.figure( figsize=(scale * k, scale) )\n",
    "                    plt.title ( layer_name )\n",
    "                    plt.grid  ( False )\n",
    "                    plt.imshow( image_belt, aspect='auto')\n",
    "                    plt.show()\n",
    "\n",
    "\n",
    "# to calculate accuracy\n",
    "from sklearn.metrics import accuracy_score\n",
    "\n",
    "# loading the dataset\n",
    "(X_train, y_train), (X_test, y_test) = mnist.load_data()\n",
    "\n",
    "\n",
    "# building the input vector from the 28x28 pixels\n",
    "X_train = X_train.reshape(X_train.shape[0], 28, 28, 1)\n",
    "X_test = X_test.reshape(X_test.shape[0], 28, 28, 1)\n",
    "X_train = X_train.astype('float32')\n",
    "X_test = X_test.astype('float32')\n",
    "\n",
    "# normalizing the data to help with the training\n",
    "X_train /= 255\n",
    "X_test /= 255\n",
    "\n",
    "X_sample = X_train[22,:,:,:].reshape(1,28,28,1)\n",
    "\n",
    "X_random = np.zeros((28,28))\n",
    "for i in range(X_random.shape[0]):\n",
    "    for j in range(X_random.shape[1]):\n",
    "        X_random[i,j] = np.random.randint(0,255)\n",
    "\n",
    "X_random_test = X_random.reshape(1,28,28,1)\n",
    "\n",
    "print(X_random_test.shape)\n",
    "\n",
    "\n",
    "\n",
    "print(X_sample.shape)\n",
    "\n",
    "# one-hot encoding using keras' numpy-related utilities\n",
    "n_classes = 10\n",
    "print(\"Shape before one-hot encoding: \", y_train.shape)\n",
    "Y_train = np_utils.to_categorical(y_train, n_classes)\n",
    "Y_test = np_utils.to_categorical(y_test, n_classes)\n",
    "print(\"Shape after one-hot encoding: \", Y_train.shape)\n",
    "\n",
    "# building a linear stack of layers with the sequential model\n",
    "model = Sequential()\n",
    "# convolutional layer\n",
    "model.add(Conv2D(10, kernel_size=(3,3), strides=(1,1), padding='valid', activation='relu', input_shape=(28,28,1)))\n",
    "model.add(MaxPool2D(pool_size=(1,1)))\n",
    "# flatten output of conv\n",
    "model.add(Flatten())\n",
    "# hidden layer\n",
    "model.add(Dense(50, activation='relu'))\n",
    "# output layer\n",
    "model.add(Dense(10, activation='softmax'))\n",
    "\n",
    "metrics = [\n",
    "    \n",
    "    tf.keras.metrics.TruePositives(name=\"tp\"),\n",
    "    tf.keras.metrics.TrueNegatives(name=\"tn\"),\n",
    "    tf.keras.metrics.FalseNegatives(name=\"fn\"),\n",
    "    tf.keras.metrics.FalsePositives(name=\"fp\"),\n",
    "    tf.keras.metrics.CategoricalAccuracy(name=\"categorical_accuracy\")\n",
    "]\n",
    "plot_metrics = TrainingVis()\n",
    "\n",
    "# compiling the sequential model\n",
    "model.compile(loss='categorical_crossentropy', metrics = metrics,optimizer='adam')\n",
    "\n",
    "\n",
    "\n",
    "\n",
    "\n"
   ]
  },
  {
   "cell_type": "code",
   "execution_count": 14,
   "metadata": {},
   "outputs": [
    {
     "data": {
      "image/png": "[encoded data removed]",
      "text/plain": [
       "<Figure size 1440x144 with 1 Axes>"
      ]
     },
     "metadata": {
      "needs_background": "light"
     },
     "output_type": "display_data"
    },
    {
     "data": {
      "image/png": "[encoded data removed]",
      "text/plain": [
       "<Figure size 1440x144 with 1 Axes>"
      ]
     },
     "metadata": {
      "needs_background": "light"
     },
     "output_type": "display_data"
    },
    {
     "name": "stdout",
     "output_type": "stream",
     "text": [
      "\b\b\b\b\b\b\b\b\b\b\b\b\b\b\b\b\b\b\b\b\b\b\b\b\b\b\b\b\b\b\b\b\b\b\b\b\b\b\b\b\b\b\b\b\b\b\b\b\b\b\b\b\b\b\b\b\b\b\b\b\b\b\b\b\b\b\b\b\b\b\b\b\b\b\b\b\b\b\b\b\b\b\b\b\b\b\b\b\b\b\b\b\b\b\b\b\b\b\b\b\b\b\b\b\b\b\b\b\b\b\b\b\b\b\b\b\b\b\b\b\b\b\b\b\b\b\b\b\b\b\b\b\b\b\b\b\b\b\b\b\b\b\b\b\b\b\b\b\b\b\b\b\b\b\b\b\b\b\b\b\b\b\b\r",
      "235/235 [==============================] - 70s 297ms/step - loss: 0.7139 - tp: 23087.6737 - tn: 271618.9449 - fn: 7245.8856 - fp: 1383.0890 - categorical_accuracy: 0.8182 - val_loss: 0.1390 - val_tp: 9531.0000 - val_tn: 89706.0000 - val_fn: 469.0000 - val_fp: 294.0000 - val_categorical_accuracy: 0.9610\n"
     ]
    },
    {
     "data": {
      "text/plain": [
       "<tensorflow.python.keras.callbacks.History at 0x7ff6b44110d0>"
      ]
     },
     "execution_count": 14,
     "metadata": {},
     "output_type": "execute_result"
    }
   ],
   "source": [
    "# training the model example by example, to wath the feature map change as weights are learned.\n",
    "model.fit(X_train, Y_train, batch_size=256, epochs=1, callbacks =[plot_metrics], validation_data=(X_test, Y_test))\n",
    "\n"
   ]
  },
  {
   "cell_type": "code",
   "execution_count": null,
   "metadata": {},
   "outputs": [],
   "source": []
  },
  {
   "cell_type": "code",
   "execution_count": null,
   "metadata": {},
   "outputs": [],
   "source": []
  }
 ],
 "metadata": {
  "kernelspec": {
   "display_name": "Python 3",
   "language": "python",
   "name": "python3"
  },
  "language_info": {
   "codemirror_mode": {
    "name": "ipython",
    "version": 3
   },
   "file_extension": ".py",
   "mimetype": "text/x-python",
   "name": "python",
   "nbconvert_exporter": "python",
   "pygments_lexer": "ipython3",
   "version": "3.8.5"
  }
 },
 "nbformat": 4,
 "nbformat_minor": 2
}
